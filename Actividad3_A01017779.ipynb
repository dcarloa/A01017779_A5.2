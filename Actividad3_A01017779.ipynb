{
  "cells": [
    {
      "cell_type": "markdown",
      "metadata": {
        "id": "hG3WSCdNT7_8"
      },
      "source": [
        "#**Maestría en Inteligencia Artificial Aplicada**\n",
        "##**Curso: Análisis de grandes volúmenes de datos. TC4034.10 **\n",
        "###Tecnológico de Monterrey\n",
        "###Prof: Dr. Iván Olmos Pineda\n",
        "\n",
        "##Salvador D’Carlo Abad Guarro\t\tA01017779\n",
        "\n",
        "\n",
        "## **Actividad 3 | Aprendizaje supervisado y no supervisado**"
      ]
    },
    {
      "cell_type": "markdown",
      "source": [
        "# **1. Introducción:**\n",
        "\n",
        "En esta actividad exploraremos dos enfoques clave del aprendizaje automático:\n",
        "\n",
        "el aprendizaje supervisado y el no supervisado. El primero se basa en tener una “respuesta correcta” (etiqueta) para cada dato —como saber si un vuelo fue puntual o retrasado— y entrenar modelos para predecir esas respuestas. Ejemplos clásicos de algoritmos supervisados que usaremos son el árbol de decisión (DecisionTreeClassifier) y el bosque aleatorio (RandomForestClassifier), ambos disponibles en PySpark.\n",
        "\n",
        "Por otro lado, el aprendizaje no supervisado no necesita etiquetas; se enfoca en descubrir patrones o grupos naturales en los datos, como encontrar tipos de vuelos con comportamientos similares. En este caso, usaremos el algoritmo KMeans, también implementado en PySpark.\n",
        "\n",
        "La ventaja de usar PySpark es que permite trabajar con grandes volúmenes de datos sin que nuestra compu explote. Durante esta actividad, construiremos una muestra representativa, la prepararemos adecuadamente y aplicaremos ambos tipos de algoritmos para extraer valor de los datos. ¿La meta? Identificar patrones interesantes y poner en práctica todo lo aprendido de forma eficiente y escalable.\n"
      ],
      "metadata": {
        "id": "Pd1EiLq126q1"
      }
    },
    {
      "cell_type": "markdown",
      "source": [
        "# 2. Selección de los datos"
      ],
      "metadata": {
        "id": "KMv5V1_w7Ydu"
      }
    },
    {
      "cell_type": "code",
      "source": [
        "!apt install openjdk-11-jdk-headless -qq > /dev/null\n",
        "!pip install pyspark==3.4.1 kagglehub findspark --quiet"
      ],
      "metadata": {
        "colab": {
          "base_uri": "https://localhost:8080/"
        },
        "id": "cIoMA3XF2Tbv",
        "outputId": "8136081a-1700-4627-ecfb-a4d47dbcd775"
      },
      "execution_count": 1,
      "outputs": [
        {
          "output_type": "stream",
          "name": "stdout",
          "text": [
            "\n",
            "WARNING: apt does not have a stable CLI interface. Use with caution in scripts.\n",
            "\n",
            "\u001b[2K     \u001b[90m━━━━━━━━━━━━━━━━━━━━━━━━━━━━━━━━━━━━━━━\u001b[0m \u001b[32m310.8/310.8 MB\u001b[0m \u001b[31m3.8 MB/s\u001b[0m eta \u001b[36m0:00:00\u001b[0m\n",
            "\u001b[?25h  Preparing metadata (setup.py) ... \u001b[?25l\u001b[?25hdone\n",
            "  Building wheel for pyspark (setup.py) ... \u001b[?25l\u001b[?25hdone\n",
            "\u001b[31mERROR: pip's dependency resolver does not currently take into account all the packages that are installed. This behaviour is the source of the following dependency conflicts.\n",
            "dataproc-spark-connect 0.7.3 requires pyspark[connect]>=3.5, but you have pyspark 3.4.1 which is incompatible.\u001b[0m\u001b[31m\n",
            "\u001b[0m"
          ]
        }
      ]
    },
    {
      "cell_type": "code",
      "source": [
        "import os\n",
        "import sys\n",
        "import findspark\n",
        "import pyspark\n",
        "import numpy as np\n",
        "import pandas as pd\n",
        "from pyspark.sql.functions import col, when, count, isnan\n",
        "from pyspark.ml.feature import StringIndexer\n",
        "from pyspark.ml.feature import VectorAssembler\n",
        "from pyspark.ml.classification import RandomForestClassifier\n",
        "from pyspark.ml.evaluation import BinaryClassificationEvaluator\n",
        "from pyspark.ml.clustering import KMeans\n",
        "from pyspark.ml.evaluation import ClusteringEvaluator"
      ],
      "metadata": {
        "id": "DnwY9Aif3u1b"
      },
      "execution_count": 62,
      "outputs": []
    },
    {
      "cell_type": "code",
      "execution_count": 3,
      "metadata": {
        "id": "ORXYGEk3jOkd"
      },
      "outputs": [],
      "source": [
        "import findspark\n",
        "\n",
        "os.environ[\"JAVA_HOME\"] = \"/usr/lib/jvm/java-11-openjdk-amd64\"\n",
        "os.environ['PYSPARK_SUBMIT_ARGS'] = '--packages \"org.apache.hadoop:hadoop-aws:3.3.4\" pyspark-shell'\n",
        "findspark.init()"
      ]
    },
    {
      "cell_type": "code",
      "execution_count": 4,
      "metadata": {
        "id": "9adxhRbXTKL_"
      },
      "outputs": [],
      "source": [
        "from pyspark.sql import SparkSession\n",
        "\n",
        "# Crear sesión de Spark\n",
        "spark = SparkSession.builder.appName(\"FlightDelaysAnalysis\").getOrCreate()"
      ]
    },
    {
      "cell_type": "code",
      "execution_count": 26,
      "metadata": {
        "colab": {
          "base_uri": "https://localhost:8080/"
        },
        "id": "rV4gjOBljnQM",
        "outputId": "cbbf1b50-da9f-43ff-b92c-e49cef18f4cf"
      },
      "outputs": [
        {
          "output_type": "stream",
          "name": "stdout",
          "text": [
            "Path to dataset files: /kaggle/input/flight-delay-dataset-20182022\n"
          ]
        }
      ],
      "source": [
        "import kagglehub\n",
        "\n",
        "path = kagglehub.dataset_download(\"robikscube/flight-delay-dataset-20182022\")\n",
        "print(\"Path to dataset files:\", path)"
      ]
    },
    {
      "cell_type": "code",
      "execution_count": 27,
      "metadata": {
        "id": "AL9Y9F-NsVi-"
      },
      "outputs": [],
      "source": [
        "from pyspark.sql.functions import col\n",
        "\n",
        "df = spark.read.parquet(f\"{path}/Combined_Flights_2022.parquet\")"
      ]
    },
    {
      "cell_type": "code",
      "source": [
        "print(f\"Número de filas: {df.count():,}\")\n",
        "print(f\"Número de columnas: {len(df.columns)}\")"
      ],
      "metadata": {
        "colab": {
          "base_uri": "https://localhost:8080/"
        },
        "id": "WRoAh8w46rjx",
        "outputId": "698c6eae-2086-4c38-e63a-94f1f3901586"
      },
      "execution_count": 28,
      "outputs": [
        {
          "output_type": "stream",
          "name": "stdout",
          "text": [
            "Número de filas: 4,078,318\n",
            "Número de columnas: 62\n"
          ]
        }
      ]
    },
    {
      "cell_type": "code",
      "source": [
        "particiones = [\n",
        "    (True, 1),\n",
        "    (True, 5),\n",
        "    (False, 1),\n",
        "    (False, 5)\n",
        "]"
      ],
      "metadata": {
        "id": "_4BTfDCV7QQv"
      },
      "execution_count": 29,
      "outputs": []
    },
    {
      "cell_type": "code",
      "source": [
        "muestras = []\n",
        "for cancelado, dia in particiones:\n",
        "    muestra = (\n",
        "        df\n",
        "        .filter((df[\"Cancelled\"] == cancelado) & (df[\"DayOfWeek\"] == dia))\n",
        "        .sample(False, 0.05, seed=42)\n",
        "        .limit(1000)\n",
        "    )\n",
        "    muestras.append(muestra)"
      ],
      "metadata": {
        "id": "eQ6mO0vv7kK3"
      },
      "execution_count": 30,
      "outputs": []
    },
    {
      "cell_type": "code",
      "source": [
        "muestra_M = muestras[0]\n",
        "for i in range(1, len(muestras)):\n",
        "    muestra_M = muestra_M.union(muestras[i])"
      ],
      "metadata": {
        "id": "-no-fKXP7lMk"
      },
      "execution_count": 31,
      "outputs": []
    },
    {
      "cell_type": "code",
      "source": [
        "print(\"Número total de registros en la muestra M:\", muestra_M.count())\n",
        "muestra_M.groupBy(\"Cancelled\", \"DayOfWeek\").count().show()"
      ],
      "metadata": {
        "colab": {
          "base_uri": "https://localhost:8080/"
        },
        "id": "7A-o0_T-7lqV",
        "outputId": "2a75a4c4-61e5-48e8-cfad-ec204b51c7e1"
      },
      "execution_count": 32,
      "outputs": [
        {
          "output_type": "stream",
          "name": "stdout",
          "text": [
            "Número total de registros en la muestra M: 3874\n",
            "+---------+---------+-----+\n",
            "|Cancelled|DayOfWeek|count|\n",
            "+---------+---------+-----+\n",
            "|     true|        1|  874|\n",
            "|     true|        5| 1000|\n",
            "|    false|        1| 1000|\n",
            "|    false|        5| 1000|\n",
            "+---------+---------+-----+\n",
            "\n"
          ]
        }
      ]
    },
    {
      "cell_type": "markdown",
      "source": [
        "# 3. Preparación de los datos"
      ],
      "metadata": {
        "id": "S8FUiU9xZ_fI"
      }
    },
    {
      "cell_type": "code",
      "source": [
        "muestra_M.printSchema()"
      ],
      "metadata": {
        "colab": {
          "base_uri": "https://localhost:8080/"
        },
        "id": "wIXCgE9DMvOz",
        "outputId": "abc943ec-b0fb-41ff-9729-4f3466b776e8"
      },
      "execution_count": 38,
      "outputs": [
        {
          "output_type": "stream",
          "name": "stdout",
          "text": [
            "root\n",
            " |-- FlightDate: timestamp_ntz (nullable = true)\n",
            " |-- Airline: string (nullable = true)\n",
            " |-- Origin: string (nullable = true)\n",
            " |-- Dest: string (nullable = true)\n",
            " |-- Cancelled: boolean (nullable = true)\n",
            " |-- Diverted: boolean (nullable = true)\n",
            " |-- CRSDepTime: long (nullable = true)\n",
            " |-- DepTime: double (nullable = true)\n",
            " |-- DepDelayMinutes: double (nullable = true)\n",
            " |-- DepDelay: double (nullable = true)\n",
            " |-- ArrTime: double (nullable = true)\n",
            " |-- ArrDelayMinutes: double (nullable = true)\n",
            " |-- AirTime: double (nullable = true)\n",
            " |-- CRSElapsedTime: double (nullable = true)\n",
            " |-- ActualElapsedTime: double (nullable = true)\n",
            " |-- Distance: double (nullable = true)\n",
            " |-- Year: long (nullable = true)\n",
            " |-- Quarter: long (nullable = true)\n",
            " |-- Month: long (nullable = true)\n",
            " |-- DayofMonth: long (nullable = true)\n",
            " |-- DayOfWeek: long (nullable = true)\n",
            " |-- Marketing_Airline_Network: string (nullable = true)\n",
            " |-- Operated_or_Branded_Code_Share_Partners: string (nullable = true)\n",
            " |-- DOT_ID_Marketing_Airline: long (nullable = true)\n",
            " |-- IATA_Code_Marketing_Airline: string (nullable = true)\n",
            " |-- Flight_Number_Marketing_Airline: long (nullable = true)\n",
            " |-- Operating_Airline: string (nullable = true)\n",
            " |-- DOT_ID_Operating_Airline: long (nullable = true)\n",
            " |-- IATA_Code_Operating_Airline: string (nullable = true)\n",
            " |-- Tail_Number: string (nullable = true)\n",
            " |-- Flight_Number_Operating_Airline: long (nullable = true)\n",
            " |-- OriginAirportID: long (nullable = true)\n",
            " |-- OriginAirportSeqID: long (nullable = true)\n",
            " |-- OriginCityMarketID: long (nullable = true)\n",
            " |-- OriginCityName: string (nullable = true)\n",
            " |-- OriginState: string (nullable = true)\n",
            " |-- OriginStateFips: long (nullable = true)\n",
            " |-- OriginStateName: string (nullable = true)\n",
            " |-- OriginWac: long (nullable = true)\n",
            " |-- DestAirportID: long (nullable = true)\n",
            " |-- DestAirportSeqID: long (nullable = true)\n",
            " |-- DestCityMarketID: long (nullable = true)\n",
            " |-- DestCityName: string (nullable = true)\n",
            " |-- DestState: string (nullable = true)\n",
            " |-- DestStateFips: long (nullable = true)\n",
            " |-- DestStateName: string (nullable = true)\n",
            " |-- DestWac: long (nullable = true)\n",
            " |-- DepDel15: double (nullable = true)\n",
            " |-- DepartureDelayGroups: double (nullable = true)\n",
            " |-- DepTimeBlk: string (nullable = true)\n",
            " |-- TaxiOut: double (nullable = true)\n",
            " |-- WheelsOff: double (nullable = true)\n",
            " |-- WheelsOn: double (nullable = true)\n",
            " |-- TaxiIn: double (nullable = true)\n",
            " |-- CRSArrTime: long (nullable = true)\n",
            " |-- ArrDelay: double (nullable = true)\n",
            " |-- ArrDel15: double (nullable = true)\n",
            " |-- ArrivalDelayGroups: double (nullable = true)\n",
            " |-- ArrTimeBlk: string (nullable = true)\n",
            " |-- DistanceGroup: long (nullable = true)\n",
            " |-- DivAirportLandings: long (nullable = true)\n",
            " |-- __index_level_0__: long (nullable = true)\n",
            "\n"
          ]
        }
      ]
    },
    {
      "cell_type": "code",
      "source": [
        "columnas_clave = [\"CRSDepTime\", \"CRSElapsedTime\", \"Distance\", \"DayOfWeek\", \"DepTimeBlk\", \"Cancelled\"]"
      ],
      "metadata": {
        "id": "Ii-YMYNhMTOV"
      },
      "execution_count": 35,
      "outputs": []
    },
    {
      "cell_type": "code",
      "source": [
        "nulos = muestra_M.select([count(when(col(c).isNull(), c)).alias(c) for c in columnas_clave])\n",
        "print(\"Valores nulos por columna:\")\n",
        "nulos.show()"
      ],
      "metadata": {
        "colab": {
          "base_uri": "https://localhost:8080/"
        },
        "id": "Bo911R4YFcf-",
        "outputId": "a3a458cd-25d1-43ff-b518-f2df5ae6a996"
      },
      "execution_count": 36,
      "outputs": [
        {
          "output_type": "stream",
          "name": "stdout",
          "text": [
            "Valores nulos por columna:\n",
            "+----------+--------------+--------+---------+----------+---------+\n",
            "|CRSDepTime|CRSElapsedTime|Distance|DayOfWeek|DepTimeBlk|Cancelled|\n",
            "+----------+--------------+--------+---------+----------+---------+\n",
            "|         0|             0|       0|        0|         0|        0|\n",
            "+----------+--------------+--------+---------+----------+---------+\n",
            "\n"
          ]
        }
      ]
    },
    {
      "cell_type": "markdown",
      "source": [
        "No hay valores nulos en las columnas seleccionadas"
      ],
      "metadata": {
        "id": "VFZ5uSJhMa3z"
      }
    },
    {
      "cell_type": "code",
      "source": [
        "indexador_horas = StringIndexer(inputCol=\"DepTimeBlk\", outputCol=\"DepTimeBlk_index\")\n",
        "muestra_M = indexador_horas.fit(muestra_M).transform(muestra_M)"
      ],
      "metadata": {
        "id": "phQ8r6uENGyk"
      },
      "execution_count": 40,
      "outputs": []
    },
    {
      "cell_type": "code",
      "source": [
        "muestra_M.select(\"CRSDepTime\", \"CRSElapsedTime\", \"Distance\", \"DayOfWeek\", \"DepTimeBlk_index\", \"Cancelled\").show(5)\n",
        "df_muestra = muestra_M.select(\"CRSDepTime\", \"CRSElapsedTime\", \"Distance\", \"DayOfWeek\", \"DepTimeBlk_index\", \"Cancelled\")"
      ],
      "metadata": {
        "colab": {
          "base_uri": "https://localhost:8080/"
        },
        "id": "Oyn7RwrPNNj7",
        "outputId": "ee630f23-36b3-453e-fe06-ab178daa2255"
      },
      "execution_count": 44,
      "outputs": [
        {
          "output_type": "stream",
          "name": "stdout",
          "text": [
            "+----------+--------------+--------+---------+----------------+---------+\n",
            "|CRSDepTime|CRSElapsedTime|Distance|DayOfWeek|DepTimeBlk_index|Cancelled|\n",
            "+----------+--------------+--------+---------+----------------+---------+\n",
            "|      1600|         135.0|   696.0|        1|            10.0|     true|\n",
            "|      1850|         135.0|   849.0|        1|             4.0|     true|\n",
            "|      2135|          55.0|   192.0|        1|            15.0|     true|\n",
            "|      1830|         125.0|   666.0|        1|             4.0|     true|\n",
            "|      1855|         170.0|   955.0|        1|             4.0|     true|\n",
            "+----------+--------------+--------+---------+----------------+---------+\n",
            "only showing top 5 rows\n",
            "\n"
          ]
        }
      ]
    },
    {
      "cell_type": "code",
      "source": [
        "df_muestra.show(5)"
      ],
      "metadata": {
        "colab": {
          "base_uri": "https://localhost:8080/"
        },
        "id": "kDb_HQIANUYl",
        "outputId": "ec7e9573-3756-4827-d48d-f55c6e83e5d2"
      },
      "execution_count": 45,
      "outputs": [
        {
          "output_type": "stream",
          "name": "stdout",
          "text": [
            "+----------+--------------+--------+---------+----------------+---------+\n",
            "|CRSDepTime|CRSElapsedTime|Distance|DayOfWeek|DepTimeBlk_index|Cancelled|\n",
            "+----------+--------------+--------+---------+----------------+---------+\n",
            "|      1600|         135.0|   696.0|        1|            10.0|     true|\n",
            "|      1850|         135.0|   849.0|        1|             4.0|     true|\n",
            "|      2135|          55.0|   192.0|        1|            15.0|     true|\n",
            "|      1830|         125.0|   666.0|        1|             4.0|     true|\n",
            "|      1855|         170.0|   955.0|        1|             4.0|     true|\n",
            "+----------+--------------+--------+---------+----------------+---------+\n",
            "only showing top 5 rows\n",
            "\n"
          ]
        }
      ]
    },
    {
      "cell_type": "code",
      "source": [
        "df_muestra = df_muestra.withColumn(\"label\", when(col(\"Cancelled\") == True, 1).otherwise(0))\n",
        "df_muestra.show(5)"
      ],
      "metadata": {
        "colab": {
          "base_uri": "https://localhost:8080/"
        },
        "id": "ga6tMVrtDQAp",
        "outputId": "be9dd1af-a46f-4e60-870d-d2c75816f450"
      },
      "execution_count": 46,
      "outputs": [
        {
          "output_type": "stream",
          "name": "stdout",
          "text": [
            "+----------+--------------+--------+---------+----------------+---------+-----+\n",
            "|CRSDepTime|CRSElapsedTime|Distance|DayOfWeek|DepTimeBlk_index|Cancelled|label|\n",
            "+----------+--------------+--------+---------+----------------+---------+-----+\n",
            "|      1600|         135.0|   696.0|        1|            10.0|     true|    1|\n",
            "|      1850|         135.0|   849.0|        1|             4.0|     true|    1|\n",
            "|      2135|          55.0|   192.0|        1|            15.0|     true|    1|\n",
            "|      1830|         125.0|   666.0|        1|             4.0|     true|    1|\n",
            "|      1855|         170.0|   955.0|        1|             4.0|     true|    1|\n",
            "+----------+--------------+--------+---------+----------------+---------+-----+\n",
            "only showing top 5 rows\n",
            "\n"
          ]
        }
      ]
    },
    {
      "cell_type": "code",
      "source": [
        "ensamblador = VectorAssembler(\n",
        "    inputCols=[\"CRSDepTime\", \"CRSElapsedTime\", \"Distance\", \"DayOfWeek\", \"DepTimeBlk_index\"],\n",
        "    outputCol=\"features\"\n",
        ")\n",
        "df_final = ensamblador.transform(df_muestra)"
      ],
      "metadata": {
        "id": "3VG3NT0CPxwr"
      },
      "execution_count": 47,
      "outputs": []
    },
    {
      "cell_type": "code",
      "source": [
        "df_final= df_final.select(\"features\", \"label\")\n",
        "df_final.show(5)"
      ],
      "metadata": {
        "colab": {
          "base_uri": "https://localhost:8080/"
        },
        "id": "S5E5BXTCQjsU",
        "outputId": "ba2b7fc0-f0db-4455-ac7e-ff258e257463"
      },
      "execution_count": 49,
      "outputs": [
        {
          "output_type": "stream",
          "name": "stdout",
          "text": [
            "+--------------------+-----+\n",
            "|            features|label|\n",
            "+--------------------+-----+\n",
            "|[1600.0,135.0,696...|    1|\n",
            "|[1850.0,135.0,849...|    1|\n",
            "|[2135.0,55.0,192....|    1|\n",
            "|[1830.0,125.0,666...|    1|\n",
            "|[1855.0,170.0,955...|    1|\n",
            "+--------------------+-----+\n",
            "only showing top 5 rows\n",
            "\n"
          ]
        }
      ]
    },
    {
      "cell_type": "code",
      "source": [
        "df_final.groupBy(\"label\").count().show()"
      ],
      "metadata": {
        "colab": {
          "base_uri": "https://localhost:8080/"
        },
        "id": "yBQW7VeGT8l-",
        "outputId": "5d28ae99-95c4-4433-96d7-6a03708bb6f8"
      },
      "execution_count": 55,
      "outputs": [
        {
          "output_type": "stream",
          "name": "stdout",
          "text": [
            "+-----+-----+\n",
            "|label|count|\n",
            "+-----+-----+\n",
            "|    1| 1874|\n",
            "|    0| 2000|\n",
            "+-----+-----+\n",
            "\n"
          ]
        }
      ]
    },
    {
      "cell_type": "markdown",
      "source": [
        "# 4. Preparación del conjunto de entrenamiento y prueba"
      ],
      "metadata": {
        "id": "7QbFZ_SARGaN"
      }
    },
    {
      "cell_type": "code",
      "source": [
        "train_data, test_data = df_final.randomSplit([0.8, 0.2], seed=42)"
      ],
      "metadata": {
        "id": "ASP-bvqIRFHD"
      },
      "execution_count": 50,
      "outputs": []
    },
    {
      "cell_type": "code",
      "source": [
        "print(\"Tamaño del conjunto de entrenamiento:\", train_data.count())\n",
        "print(\"Tamaño del conjunto de prueba:\", test_data.count())"
      ],
      "metadata": {
        "colab": {
          "base_uri": "https://localhost:8080/"
        },
        "id": "BLQONv-mSQhE",
        "outputId": "18694eb2-bcc9-49d0-e0e1-4860f3c36935"
      },
      "execution_count": 51,
      "outputs": [
        {
          "output_type": "stream",
          "name": "stdout",
          "text": [
            "Tamaño del conjunto de entrenamiento: 3136\n",
            "Tamaño del conjunto de prueba: 738\n"
          ]
        }
      ]
    },
    {
      "cell_type": "markdown",
      "source": [
        "Se eligió una división del 80% para entrenamiento y 20% para prueba porque la muestra contiene registros limitados (~3,800), y es importante asegurar que el modelo tenga suficiente información para aprender sin sacrificar evaluaciones confiables. Dado que el evento de cancelación es poco frecuente en la base general, esta proporción permite mantener ejemplos positivos y negativos en ambas particiones. Además, usar randomSplit con semilla fija asegura reproducibilidad y evita sesgos por ordenamiento accidental en los datos."
      ],
      "metadata": {
        "id": "crJKe94iSsO1"
      }
    },
    {
      "cell_type": "markdown",
      "source": [
        "# 5. Construcción de modelos de aprendizaje supervisado y no supervisado"
      ],
      "metadata": {
        "id": "WA_2Jc0US8Ql"
      }
    },
    {
      "cell_type": "markdown",
      "source": [
        "# 5a. Construcción de modelos de aprendizaje supervisado"
      ],
      "metadata": {
        "id": "eG8mL0qgTAWW"
      }
    },
    {
      "cell_type": "code",
      "source": [
        "rf = RandomForestClassifier(labelCol=\"label\", featuresCol=\"features\", numTrees=100, maxDepth=5, seed=42)"
      ],
      "metadata": {
        "id": "s7xwmr83Uu1N"
      },
      "execution_count": 57,
      "outputs": []
    },
    {
      "cell_type": "code",
      "source": [
        "modelo_rf = rf.fit(train_data)"
      ],
      "metadata": {
        "id": "NRIMn3F-Uusl"
      },
      "execution_count": 58,
      "outputs": []
    },
    {
      "cell_type": "code",
      "source": [
        "predicciones = modelo_rf.transform(test_data)"
      ],
      "metadata": {
        "id": "rEuP8aUeUueO"
      },
      "execution_count": 59,
      "outputs": []
    },
    {
      "cell_type": "code",
      "source": [
        "evaluator = BinaryClassificationEvaluator(labelCol=\"label\", metricName=\"areaUnderROC\")\n",
        "roc_auc = evaluator.evaluate(predicciones)"
      ],
      "metadata": {
        "id": "bIz2gcmaUy7O"
      },
      "execution_count": 60,
      "outputs": []
    },
    {
      "cell_type": "code",
      "source": [
        "print(f\"AUC ROC: {roc_auc:.4f}\")"
      ],
      "metadata": {
        "colab": {
          "base_uri": "https://localhost:8080/"
        },
        "id": "bypmOvs-UyuN",
        "outputId": "17648c5e-3218-4a48-b12e-e31841855a8f"
      },
      "execution_count": 61,
      "outputs": [
        {
          "output_type": "stream",
          "name": "stdout",
          "text": [
            "AUC ROC: 0.6892\n"
          ]
        }
      ]
    },
    {
      "cell_type": "markdown",
      "source": [
        "El modelo fue entrenado con 3,136 registros y evaluado sobre 738 vuelos. Usando RandomForestClassifier se logró un AUC-ROC que indica qué tan bien el modelo separa los vuelos cancelados de los no cancelados. Esta métrica es adecuada porque no se ve afectada por un leve desbalance. Dado que los datos tienen suficiente diversidad en variables horarias, duración del vuelo y día de la semana, el modelo logra captar patrones que anticipan cancelaciones.\n",
        "\n",
        "El resultado fue de 69% la cual es una métrica regular lo cual indica que al haber un vuelo, el modelo puede predecir el resultado correctamente con tan solo un 69% de eficacia, esta métrica pudo haber mejorado si no se descartaban tantas columnas del df original, sin embargo para fines prácticos se busco utilizar menos columnas para eficientizar recursos computacionales."
      ],
      "metadata": {
        "id": "5qzxIRYJbllb"
      }
    },
    {
      "cell_type": "markdown",
      "source": [
        "# 5b. Construcción de modelos de aprendizaje no supervisado"
      ],
      "metadata": {
        "id": "ZXlxnOnHTHpd"
      }
    },
    {
      "cell_type": "code",
      "source": [
        "kmeans = KMeans(featuresCol='features', k=3, seed=42)"
      ],
      "metadata": {
        "id": "zHjqxqOlcXmp"
      },
      "execution_count": 63,
      "outputs": []
    },
    {
      "cell_type": "code",
      "source": [
        "modelo_kmeans = kmeans.fit(df_final)"
      ],
      "metadata": {
        "id": "YIos4HdCcXif"
      },
      "execution_count": 64,
      "outputs": []
    },
    {
      "cell_type": "code",
      "source": [
        "predicciones_kmeans = modelo_kmeans.transform(df_final)"
      ],
      "metadata": {
        "id": "mTblJBCOcXdl"
      },
      "execution_count": 65,
      "outputs": []
    },
    {
      "cell_type": "code",
      "source": [
        "evaluador = ClusteringEvaluator()\n",
        "silhouette = evaluador.evaluate(predicciones_kmeans)"
      ],
      "metadata": {
        "id": "s3X5hQaEcXS0"
      },
      "execution_count": 66,
      "outputs": []
    },
    {
      "cell_type": "code",
      "source": [
        "print(f\"Silhouette Score: {silhouette:.4f}\")"
      ],
      "metadata": {
        "colab": {
          "base_uri": "https://localhost:8080/"
        },
        "id": "NQaonlF0ceSs",
        "outputId": "42ade832-d69d-4fe2-f08e-82b55aa140b8"
      },
      "execution_count": 67,
      "outputs": [
        {
          "output_type": "stream",
          "name": "stdout",
          "text": [
            "Silhouette Score: 0.6311\n"
          ]
        }
      ]
    },
    {
      "cell_type": "markdown",
      "source": [
        "El modelo no supervisado se entrenó con los 3,874 vuelos de la muestra M usando el algoritmo KMeans, que agrupa los vuelos en diferentes grupos según sus características. No usamos la columna de cancelación, solo datos como la hora de salida, duración del vuelo, distancia y el día de la semana, lo cual permite encontrar vuelos que se parecen entre sí.\n",
        "\n",
        "El resultado fue un Silhouette Score de 0.6311, lo cual indica que los grupos que se formaron están bien separados y que los vuelos dentro de cada grupo son parecidos entre ellos. Aunque no se usó la variable de cancelación, este análisis puede ayudar a encontrar grupos de vuelos que tengan más riesgo de ser cancelados. Se usaron pocas columnas para que el análisis fuera más rápido y ligero, aunque eso pudo afectar un poco la precisión de los grupos."
      ],
      "metadata": {
        "id": "vKgX43vSdCej"
      }
    }
  ],
  "metadata": {
    "colab": {
      "provenance": []
    },
    "kernelspec": {
      "display_name": "Python 3",
      "name": "python3"
    },
    "language_info": {
      "name": "python"
    }
  },
  "nbformat": 4,
  "nbformat_minor": 0
}